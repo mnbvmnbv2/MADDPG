{
 "cells": [
  {
   "cell_type": "code",
   "execution_count": 6,
   "metadata": {},
   "outputs": [],
   "source": [
    "from __future__ import print_function\n",
    "import h5py as h5\n",
    "\n",
    "def print_scan_hdf5(path, recursive=True, tab_step=2):\n",
    "    def scan_node(g, tabs=0):\n",
    "        print(' ' * tabs, g.name)\n",
    "        for k, v in g.items():\n",
    "            if isinstance(v, h5.Dataset):\n",
    "                print(' ' * tabs + ' ' * tab_step + ' -', v.name)\n",
    "            elif isinstance(v, h5.Group) and recursive:\n",
    "                scan_node(v, tabs=tabs + tab_step)\n",
    "    with h5.File(path, 'r') as f:\n",
    "        scan_node(f)"
   ]
  },
  {
   "cell_type": "code",
   "execution_count": 7,
   "metadata": {},
   "outputs": [
    {
     "name": "stdout",
     "output_type": "stream",
     "text": [
      " /\n",
      "   /dense_16\n",
      "     /dense_16/dense_16\n",
      "       - /dense_16/dense_16/bias:0\n",
      "       - /dense_16/dense_16/kernel:0\n",
      "   /dense_17\n",
      "     /dense_17/dense_17\n",
      "       - /dense_17/dense_17/bias:0\n",
      "       - /dense_17/dense_17/kernel:0\n",
      "   /dense_18\n",
      "     /dense_18/dense_18\n",
      "       - /dense_18/dense_18/bias:0\n",
      "       - /dense_18/dense_18/kernel:0\n",
      "   /input_7\n",
      "   /layer_normalization_8\n",
      "     /layer_normalization_8/layer_normalization_8\n",
      "       - /layer_normalization_8/layer_normalization_8/beta:0\n",
      "       - /layer_normalization_8/layer_normalization_8/gamma:0\n",
      "   /layer_normalization_9\n",
      "     /layer_normalization_9/layer_normalization_9\n",
      "       - /layer_normalization_9/layer_normalization_9/beta:0\n",
      "       - /layer_normalization_9/layer_normalization_9/gamma:0\n",
      "   /top_level_model_weights\n"
     ]
    }
   ],
   "source": [
    "print_scan_hdf5(path='Weights/actor-trial0_TrafficJunction4-v0_False_2022.9.26.18.31.25.h5')"
   ]
  },
  {
   "cell_type": "code",
   "execution_count": 8,
   "metadata": {},
   "outputs": [],
   "source": [
    "def scan_hdf52(path, recursive=True, tab_step=2):\n",
    "    def scan_node(g, tabs=0):\n",
    "        elems = []\n",
    "        for k, v in g.items():\n",
    "            if isinstance(v, h5.Dataset):\n",
    "                elems.append(v.name)\n",
    "            elif isinstance(v, h5.Group) and recursive:\n",
    "                elems.append((v.name, scan_node(v, tabs=tabs + tab_step)))\n",
    "        return elems\n",
    "    with h5.File(path, 'r') as f:\n",
    "        return scan_node(f)"
   ]
  },
  {
   "cell_type": "code",
   "execution_count": 9,
   "metadata": {},
   "outputs": [
    {
     "name": "stdout",
     "output_type": "stream",
     "text": [
      " /\n",
      "   /dense\n",
      "     /dense/dense\n",
      "       - /dense/dense/bias:0\n",
      "       - /dense/dense/kernel:0\n",
      "   /dense_1\n",
      "     /dense_1/dense_1\n",
      "       - /dense_1/dense_1/bias:0\n",
      "       - /dense_1/dense_1/kernel:0\n",
      "   /dense_2\n",
      "     /dense_2/dense_2\n",
      "       - /dense_2/dense_2/bias:0\n",
      "       - /dense_2/dense_2/kernel:0\n",
      "   /input_1\n",
      "   /layer_normalization\n",
      "     /layer_normalization/layer_normalization\n",
      "       - /layer_normalization/layer_normalization/beta:0\n",
      "       - /layer_normalization/layer_normalization/gamma:0\n",
      "   /layer_normalization_1\n",
      "     /layer_normalization_1/layer_normalization_1\n",
      "       - /layer_normalization_1/layer_normalization_1/beta:0\n",
      "       - /layer_normalization_1/layer_normalization_1/gamma:0\n",
      "   /top_level_model_weights\n"
     ]
    }
   ],
   "source": [
    "scan_hdf5(path='Weights/actor-trial0_TrafficJunction4-v0_False_2022.9.26.18.41.40.h5')"
   ]
  },
  {
   "cell_type": "code",
   "execution_count": 2,
   "metadata": {},
   "outputs": [
    {
     "name": "stdout",
     "output_type": "stream",
     "text": [
      "['concatenate_2', 'dense_19', 'dense_20', 'dense_21', 'dense_22', 'dense_23', 'input_8', 'input_9', 'layer_normalization_10', 'layer_normalization_11', 'top_level_model_weights']\n"
     ]
    },
    {
     "ename": "KeyError",
     "evalue": "\"Unable to open object (object 'dense' doesn't exist)\"",
     "output_type": "error",
     "traceback": [
      "\u001b[1;31m---------------------------------------------------------------------------\u001b[0m",
      "\u001b[1;31mKeyError\u001b[0m                                  Traceback (most recent call last)",
      "\u001b[1;32mc:\\Users\\Ferdi\\Documents\\GitHub\\MADDPG\\inspect.ipynb Cell 5\u001b[0m in \u001b[0;36m<cell line: 5>\u001b[1;34m()\u001b[0m\n\u001b[0;32m      <a href='vscode-notebook-cell:/c%3A/Users/Ferdi/Documents/GitHub/MADDPG/inspect.ipynb#W4sZmlsZQ%3D%3D?line=2'>3</a>\u001b[0m \u001b[39mprint\u001b[39m(\u001b[39mlist\u001b[39m(f\u001b[39m.\u001b[39mkeys()))\n\u001b[0;32m      <a href='vscode-notebook-cell:/c%3A/Users/Ferdi/Documents/GitHub/MADDPG/inspect.ipynb#W4sZmlsZQ%3D%3D?line=3'>4</a>\u001b[0m \u001b[39m# will get a list of layer names which you can use as index\u001b[39;00m\n\u001b[1;32m----> <a href='vscode-notebook-cell:/c%3A/Users/Ferdi/Documents/GitHub/MADDPG/inspect.ipynb#W4sZmlsZQ%3D%3D?line=4'>5</a>\u001b[0m d \u001b[39m=\u001b[39m f[\u001b[39m'\u001b[39;49m\u001b[39mdense\u001b[39;49m\u001b[39m'\u001b[39;49m][\u001b[39m'\u001b[39m\u001b[39mdense_1\u001b[39m\u001b[39m'\u001b[39m][\u001b[39m'\u001b[39m\u001b[39mkernel:0\u001b[39m\u001b[39m'\u001b[39m]\n\u001b[0;32m      <a href='vscode-notebook-cell:/c%3A/Users/Ferdi/Documents/GitHub/MADDPG/inspect.ipynb#W4sZmlsZQ%3D%3D?line=5'>6</a>\u001b[0m \u001b[39m# <HDF5 dataset \"kernel:0\": shape (128, 1), type \"<f4\">\u001b[39;00m\n\u001b[0;32m      <a href='vscode-notebook-cell:/c%3A/Users/Ferdi/Documents/GitHub/MADDPG/inspect.ipynb#W4sZmlsZQ%3D%3D?line=6'>7</a>\u001b[0m d\u001b[39m.\u001b[39mshape \u001b[39m==\u001b[39m (\u001b[39m128\u001b[39m, \u001b[39m1\u001b[39m)\n",
      "File \u001b[1;32mh5py\\_objects.pyx:54\u001b[0m, in \u001b[0;36mh5py._objects.with_phil.wrapper\u001b[1;34m()\u001b[0m\n",
      "File \u001b[1;32mh5py\\_objects.pyx:55\u001b[0m, in \u001b[0;36mh5py._objects.with_phil.wrapper\u001b[1;34m()\u001b[0m\n",
      "File \u001b[1;32mc:\\ProgramData\\Miniconda3\\lib\\site-packages\\h5py\\_hl\\group.py:328\u001b[0m, in \u001b[0;36mGroup.__getitem__\u001b[1;34m(self, name)\u001b[0m\n\u001b[0;32m    326\u001b[0m         \u001b[39mraise\u001b[39;00m \u001b[39mValueError\u001b[39;00m(\u001b[39m\"\u001b[39m\u001b[39mInvalid HDF5 object reference\u001b[39m\u001b[39m\"\u001b[39m)\n\u001b[0;32m    327\u001b[0m \u001b[39melif\u001b[39;00m \u001b[39misinstance\u001b[39m(name, (\u001b[39mbytes\u001b[39m, \u001b[39mstr\u001b[39m)):\n\u001b[1;32m--> 328\u001b[0m     oid \u001b[39m=\u001b[39m h5o\u001b[39m.\u001b[39;49mopen(\u001b[39mself\u001b[39;49m\u001b[39m.\u001b[39;49mid, \u001b[39mself\u001b[39;49m\u001b[39m.\u001b[39;49m_e(name), lapl\u001b[39m=\u001b[39;49m\u001b[39mself\u001b[39;49m\u001b[39m.\u001b[39;49m_lapl)\n\u001b[0;32m    329\u001b[0m \u001b[39melse\u001b[39;00m:\n\u001b[0;32m    330\u001b[0m     \u001b[39mraise\u001b[39;00m \u001b[39mTypeError\u001b[39;00m(\u001b[39m\"\u001b[39m\u001b[39mAccessing a group is done with bytes or str, \u001b[39m\u001b[39m\"\u001b[39m\n\u001b[0;32m    331\u001b[0m                     \u001b[39m\"\u001b[39m\u001b[39m not \u001b[39m\u001b[39m{}\u001b[39;00m\u001b[39m\"\u001b[39m\u001b[39m.\u001b[39mformat(\u001b[39mtype\u001b[39m(name)))\n",
      "File \u001b[1;32mh5py\\_objects.pyx:54\u001b[0m, in \u001b[0;36mh5py._objects.with_phil.wrapper\u001b[1;34m()\u001b[0m\n",
      "File \u001b[1;32mh5py\\_objects.pyx:55\u001b[0m, in \u001b[0;36mh5py._objects.with_phil.wrapper\u001b[1;34m()\u001b[0m\n",
      "File \u001b[1;32mh5py\\h5o.pyx:190\u001b[0m, in \u001b[0;36mh5py.h5o.open\u001b[1;34m()\u001b[0m\n",
      "\u001b[1;31mKeyError\u001b[0m: \"Unable to open object (object 'dense' doesn't exist)\""
     ]
    }
   ],
   "source": [
    "import h5py\n",
    "f = h5py.File('Weights/critic-trial0_TrafficJunction4-v0_False_2022.9.26.18.31.25.h5', 'r')\n",
    "print(list(f.keys()))\n",
    "# will get a list of layer names which you can use as index\n",
    "d = f['dense']['dense_1']['kernel:0']\n",
    "# <HDF5 dataset \"kernel:0\": shape (128, 1), type \"<f4\">\n",
    "d.shape == (128, 1)\n",
    "d[0] == array([-0.14390108], dtype=float32)\n",
    "# etc."
   ]
  }
 ],
 "metadata": {
  "kernelspec": {
   "display_name": "Python 3.9.7 ('base')",
   "language": "python",
   "name": "python3"
  },
  "language_info": {
   "codemirror_mode": {
    "name": "ipython",
    "version": 3
   },
   "file_extension": ".py",
   "mimetype": "text/x-python",
   "name": "python",
   "nbconvert_exporter": "python",
   "pygments_lexer": "ipython3",
   "version": "3.9.7"
  },
  "orig_nbformat": 4,
  "vscode": {
   "interpreter": {
    "hash": "19d1d53a962d236aa061289c2ac16dc8e6d9648c89fe79f459ae9a3493bc67b4"
   }
  }
 },
 "nbformat": 4,
 "nbformat_minor": 2
}
